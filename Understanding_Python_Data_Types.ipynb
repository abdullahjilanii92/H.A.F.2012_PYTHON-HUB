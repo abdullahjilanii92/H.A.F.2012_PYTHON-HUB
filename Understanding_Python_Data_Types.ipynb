{
  "nbformat": 4,
  "nbformat_minor": 0,
  "metadata": {
    "colab": {
      "provenance": []
    },
    "kernelspec": {
      "name": "python3",
      "display_name": "Python 3"
    },
    "language_info": {
      "name": "python"
    }
  },
  "cells": [
    {
      "cell_type": "markdown",
      "source": [
        "1️⃣ Create variables of types: 𝐬𝐭𝐫𝐢𝐧𝐠, 𝐢𝐧𝐭𝐞𝐠𝐞𝐫, 𝐟𝐥𝐨𝐚𝐭, and 𝐛𝐨𝐨𝐥𝐞𝐚𝐧. Print their 𝐯𝐚𝐥𝐮𝐞𝐬 and 𝐭𝐲𝐩𝐞𝐬."
      ],
      "metadata": {
        "id": "weNbh7ajkwdE"
      }
    },
    {
      "cell_type": "code",
      "source": [
        "name = \"Ata Jilani\"\n",
        "age = 28\n",
        "height = 4.5\n",
        "is_student = True\n",
        "\n",
        "print(name, type(name))\n",
        "print(age, type(age))\n",
        "print(height, type(height))\n",
        "print(is_student, type(is_student))"
      ],
      "metadata": {
        "id": "f_cNL3NKBDRK",
        "colab": {
          "base_uri": "https://localhost:8080/"
        },
        "outputId": "87d5c3b1-2af6-4cbe-f961-dee7268a5b34"
      },
      "execution_count": null,
      "outputs": [
        {
          "output_type": "stream",
          "name": "stdout",
          "text": [
            "Ata Jilani <class 'str'>\n",
            "28 <class 'int'>\n",
            "4.5 <class 'float'>\n",
            "True <class 'bool'>\n"
          ]
        }
      ]
    },
    {
      "cell_type": "markdown",
      "source": [
        "2️⃣ Make a 𝐥𝐢𝐬𝐭 𝐨𝐟 𝟓 𝐟𝐫𝐮𝐢𝐭𝐬 and print."
      ],
      "metadata": {
        "id": "745xDPLylmkg"
      }
    },
    {
      "cell_type": "code",
      "source": [
        "fruits_list: list = [\"Mango\", \"Apple\", \"Banana\", \"Orange\", \"Grapes\"]\n",
        "print(\"fruits_list:\", fruits_list)"
      ],
      "metadata": {
        "colab": {
          "base_uri": "https://localhost:8080/"
        },
        "id": "BgP459EPlpz_",
        "outputId": "e2605cd3-8f4a-44a6-f2c4-0f689e11829c"
      },
      "execution_count": null,
      "outputs": [
        {
          "output_type": "stream",
          "name": "stdout",
          "text": [
            "fruits_list: ['Mango', 'Apple', 'Banana', 'Orange', 'Grapes']\n"
          ]
        }
      ]
    },
    {
      "cell_type": "markdown",
      "source": [
        "3️⃣ Create a 𝐭𝐮𝐩𝐥𝐞 𝐨𝐟 𝟑 𝐟𝐚𝐯𝐨𝐫𝐢𝐭𝐞 𝐧𝐮𝐦𝐛𝐞𝐫𝐬 and print."
      ],
      "metadata": {
        "id": "xl-k81nFmarI"
      }
    },
    {
      "cell_type": "code",
      "source": [
        "favorite_numbers: tuple = (11, 56, 10)\n",
        "print(\"favorite_numbers:\", favorite_numbers)"
      ],
      "metadata": {
        "colab": {
          "base_uri": "https://localhost:8080/"
        },
        "id": "gj26ylAZnM7n",
        "outputId": "a0ba5468-5626-4563-abe8-1a27435295ad"
      },
      "execution_count": null,
      "outputs": [
        {
          "output_type": "stream",
          "name": "stdout",
          "text": [
            "favorite_numbers: (11, 56, 10)\n"
          ]
        }
      ]
    },
    {
      "cell_type": "markdown",
      "source": [
        "4️⃣ Define a 𝐝𝐢𝐜𝐭𝐢𝐨𝐧𝐚𝐫𝐲 with keys: name, age, city – and print 𝐚𝐥𝐥 𝐤𝐞𝐲-𝐯𝐚𝐥𝐮𝐞 𝐩𝐚𝐢𝐫𝐬."
      ],
      "metadata": {
        "id": "GFij7ihb1b4i"
      }
    },
    {
      "cell_type": "code",
      "source": [
        "my_dict = {\"name\" : \"Ata Jilani\" , \"age\" : \"28\" , \"city\" : \"Gujranwala\"}\n",
        "print(\"my_dict:\", my_dict)"
      ],
      "metadata": {
        "colab": {
          "base_uri": "https://localhost:8080/"
        },
        "id": "NTckxDvh1dXg",
        "outputId": "37b8b350-ff43-4522-973b-06bd71f983e8"
      },
      "execution_count": null,
      "outputs": [
        {
          "output_type": "stream",
          "name": "stdout",
          "text": [
            "my_dict: {'name': 'Ata Jilani', 'age': '28', 'city': 'Gujranwala'}\n"
          ]
        }
      ]
    },
    {
      "cell_type": "markdown",
      "source": [
        "5️⃣ Create a 𝐬𝐞𝐭 𝐨𝐟 𝐮𝐧𝐢𝐪𝐮𝐞 𝐡𝐨𝐛𝐛𝐢𝐞𝐬."
      ],
      "metadata": {
        "id": "oW7lRaLExyBt"
      }
    },
    {
      "cell_type": "code",
      "source": [
        "my_hobbies = {\"reading\", \"photography\", \"cycling\", \"traveling\"}\n",
        "print(\"Unique hobbies:\", my_hobbies)"
      ],
      "metadata": {
        "colab": {
          "base_uri": "https://localhost:8080/"
        },
        "id": "5U-EVoK4x2kW",
        "outputId": "bd9d523a-19cd-4531-dfbc-a8c56bb3c48c"
      },
      "execution_count": null,
      "outputs": [
        {
          "output_type": "stream",
          "name": "stdout",
          "text": [
            "Unique hobbies: {'photography', 'traveling', 'reading', 'cycling'}\n"
          ]
        }
      ]
    },
    {
      "cell_type": "markdown",
      "source": [
        "6️⃣ Make a 𝐥𝐢𝐬𝐭 𝐨𝐟 𝟓 𝐬𝐭𝐮𝐝𝐞𝐧𝐭 𝐧𝐚𝐦𝐞𝐬 and print."
      ],
      "metadata": {
        "id": "4R0V-KAp0gVh"
      }
    },
    {
      "cell_type": "code",
      "source": [
        "list_of_students = [\"Fatima\", \"Halima Sadia\", \"Abdullah\", \"Asad Ali\", \"Zain Ali\"]\n",
        "print(\"list_of_students:\", list_of_students)"
      ],
      "metadata": {
        "colab": {
          "base_uri": "https://localhost:8080/"
        },
        "id": "VJIPOWRL0hzJ",
        "outputId": "92b92495-7e6a-422d-8e27-bbbf58438f8e"
      },
      "execution_count": null,
      "outputs": [
        {
          "output_type": "stream",
          "name": "stdout",
          "text": [
            "list_of_students: ['Fatima', 'Halima Sadia', 'Abdullah', 'Asad Ali', 'Zain Ali']\n"
          ]
        }
      ]
    },
    {
      "cell_type": "markdown",
      "source": [
        "7️⃣ Create a 𝐝𝐢𝐜𝐭𝐢𝐨𝐧𝐚𝐫𝐲 of 3 programming languages with their creators and print them."
      ],
      "metadata": {
        "id": "di2iaZan1ds7"
      }
    },
    {
      "cell_type": "code",
      "source": [
        "my_dict: dict = {\"python\": \"guido_van_rossum\", \"java\": \"james_gosling\", \"c++\": \"bjarne_stroustrup\"}\n",
        "print(type(my_dict), \"my_dict =\", my_dict)"
      ],
      "metadata": {
        "colab": {
          "base_uri": "https://localhost:8080/"
        },
        "id": "CE1z3eny1fFA",
        "outputId": "1000c697-e212-4ccb-cd53-e5581cb6f333"
      },
      "execution_count": null,
      "outputs": [
        {
          "output_type": "stream",
          "name": "stdout",
          "text": [
            "<class 'dict'> my_dict = {'python': 'guido_van_rossum', 'java': 'james_gosling', 'c++': 'bjarne_stroustrup'}\n"
          ]
        }
      ]
    },
    {
      "cell_type": "markdown",
      "source": [
        "8️⃣ Store 3 𝐟𝐥𝐨𝐚𝐭 numbers and calculate their 𝐚𝐯𝐞𝐫𝐚𝐠𝐞."
      ],
      "metadata": {
        "id": "WKoUgbXO2APL"
      }
    },
    {
      "cell_type": "code",
      "source": [
        "num1 = 11.5\n",
        "num2 = 8.6\n",
        "num3 = 9.1\n",
        "average = (num1 + num2 + num3) / 3\n",
        "print(\"Average:\", average)"
      ],
      "metadata": {
        "colab": {
          "base_uri": "https://localhost:8080/"
        },
        "id": "4nE0WsPP2C7T",
        "outputId": "ed3d7811-8833-435e-d777-b0f55a535246"
      },
      "execution_count": null,
      "outputs": [
        {
          "output_type": "stream",
          "name": "stdout",
          "text": [
            "Average: 9.733333333333334\n"
          ]
        }
      ]
    },
    {
      "cell_type": "markdown",
      "source": [
        "9️⃣ Create a 𝐭𝐮𝐩𝐥𝐞 𝐨𝐟 𝟒 𝐜𝐢𝐭𝐢𝐞𝐬."
      ],
      "metadata": {
        "id": "kXspA8xy4HbM"
      }
    },
    {
      "cell_type": "code",
      "source": [
        "cities = (\"Lahore\", \"Karachi\", \"Faisalabad\", \"Gujranwala\")\n",
        "print(\"Cities:\", cities)"
      ],
      "metadata": {
        "colab": {
          "base_uri": "https://localhost:8080/"
        },
        "id": "kk-4aI3o4IgH",
        "outputId": "6ecf49ae-39ac-4088-9a04-98c064426be5"
      },
      "execution_count": null,
      "outputs": [
        {
          "output_type": "stream",
          "name": "stdout",
          "text": [
            "Cities: ('Lahore', 'Karachi', 'Faisalabad', 'Gujranwala')\n"
          ]
        }
      ]
    },
    {
      "cell_type": "markdown",
      "source": [
        "🔟 Make a 𝐬𝐞𝐭 𝐨𝐟 𝐯𝐨𝐰𝐞𝐥𝐬 in a string and print."
      ],
      "metadata": {
        "id": "qBTJHQ2I4nMM"
      }
    },
    {
      "cell_type": "code",
      "source": [
        "text = \"Ai_Hub\"\n",
        "vowels_in_text = {char.lower() for char in text if char.lower() in \"aeiou\"}\n",
        "print(\"Vowels in the string:\", vowels_in_text)"
      ],
      "metadata": {
        "colab": {
          "base_uri": "https://localhost:8080/"
        },
        "id": "HFUbHi-74p43",
        "outputId": "a7fd5a68-e31a-49d6-a177-40575fda4a8e"
      },
      "execution_count": null,
      "outputs": [
        {
          "output_type": "stream",
          "name": "stdout",
          "text": [
            "Vowels in the string: {'u', 'a', 'i'}\n"
          ]
        }
      ]
    }
  ]
}